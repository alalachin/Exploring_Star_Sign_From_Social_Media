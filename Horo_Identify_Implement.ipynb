{
 "cells": [
  {
   "cell_type": "code",
   "execution_count": 2,
   "metadata": {},
   "outputs": [],
   "source": [
    "import re\n",
    "import json\n",
    "\n",
    "with open('dataset0730.json' , 'r') as reader:\n",
    "    jf = json.loads(reader.read())\n",
    "num_data = len(jf)"
   ]
  },
  {
   "cell_type": "code",
   "execution_count": 3,
   "metadata": {},
   "outputs": [
    {
     "data": {
      "text/plain": [
       "20963"
      ]
     },
     "execution_count": 3,
     "metadata": {},
     "output_type": "execute_result"
    }
   ],
   "source": [
    "num_data"
   ]
  },
  {
   "cell_type": "markdown",
   "metadata": {},
   "source": [
    "## 分4/12類 (一層)"
   ]
  },
  {
   "cell_type": "code",
   "execution_count": 4,
   "metadata": {},
   "outputs": [],
   "source": [
    "four = [{'魔','摩','羯','♑','牛','金牛','🐂','🐮','♉','處女','♍'},\\\n",
    "        {'瓶','水瓶','♒','雙子','♊','秤','天秤','⚖️','♎'},\\\n",
    "        {'魚','雙魚','🐟','🐠','♓','蟹','巨蟹','🦀️','♋','蠍','天蠍','🦂️','♏'},\\\n",
    "        {'羊','牡羊','🐑','♈','獅','🦁️','♌','射手','🏹️','♐'}]\n",
    "\n",
    "twelve = [{'魔','摩','羯','♑'},{'瓶','水瓶','♒'},{'魚','雙魚','🐟','🐠','♓'},\\\n",
    "          {'羊','牡羊','🐑','♈'},{'牛','金牛','🐂','🐮','♉'},{'雙子','♊'},\\\n",
    "          {'蟹','巨蟹','🦀️','♋'},{'獅','🦁️','♌'},{'處女','♍'},\\\n",
    "          {'秤','天秤','⚖️','♎'},{'蠍','天蠍','🦂️','♏'},{'射手','🏹️','♐'}]\n",
    "\n",
    "def mapping(char, numC):\n",
    "    if numC==4:\n",
    "        for i in range(4):\n",
    "            if char in four[i]:\n",
    "                return i\n",
    "    elif numC==12:\n",
    "        for i in range(12):\n",
    "            if char in twelve[i]:\n",
    "                return i"
   ]
  },
  {
   "cell_type": "code",
   "execution_count": 5,
   "metadata": {},
   "outputs": [],
   "source": [
    "def horoNorm1(inp): # 摩羯-->羯、魚🐟-->魚\n",
    "    if len(inp & {'摩', '魔', '羯', '♑'}) > 1:\n",
    "        inp = inp - {'摩', '魔', '♑'}\n",
    "    if len(inp & {'瓶','♒'}) > 1:\n",
    "        inp = inp - {'♒'}\n",
    "    if len(inp & {'魚','🐟','🐠','♓'}) > 1:\n",
    "        inp = inp - {'🐟','🐠','♓'}\n",
    "    if len(inp & {'羊','🐑','♈'}) > 1:\n",
    "        inp = inp - {'🐑','♈'}\n",
    "    if len(inp & {'牛','🐂','🐮','♉'}) > 1:\n",
    "        inp = inp - {'🐂','🐮','♉'}\n",
    "    if len(inp & {'雙子','♊'}) > 1:\n",
    "        inp = inp - {'♊'}\n",
    "    if len(inp & {'蟹','🦀️','♋'}) > 1:\n",
    "        inp = inp - {'🦀️','♋'}\n",
    "    if len(inp & {'獅','🦁️','♌'}) > 1:\n",
    "        inp = inp - {'🦁️','♌'}\n",
    "    if len(inp & {'處女','♍'}) > 1:\n",
    "        inp = inp - {'♍'}\n",
    "    if len(inp & {'秤','⚖️','♎'}) > 1:\n",
    "        inp = inp - {'⚖️','♎'}\n",
    "    if len(inp & {'蠍','🦂️','♏'}) > 1:\n",
    "        inp = inp - {'🦂️','♏'}\n",
    "    if len(inp & {'射手','🏹️','♐'}) > 1:\n",
    "        inp = inp - {'🏹️','♐'}      \n",
    "    return  inp"
   ]
  },
  {
   "cell_type": "code",
   "execution_count": 6,
   "metadata": {},
   "outputs": [],
   "source": [
    "def horoNorm2(inp): # 統一名稱\n",
    "    if inp == {'魔'} or inp == {'摩'} or inp == {'♑'}:\n",
    "        inp = {'羯'}\n",
    "    elif inp == {'水瓶'} or inp == {'♒'}:\n",
    "        inp = {'瓶'}\n",
    "    elif inp == {'雙魚'} or inp == {'🐟'} or inp == {'🐠'} or inp == {'♓'}:\n",
    "        inp = {'魚'}\n",
    "    elif inp == {'牡羊'} or inp == {'🐑'} or inp == {'♈'} or inp == {''}:\n",
    "        inp = {'羊'}\n",
    "    elif inp == {'金牛'} or inp == {'🐂'} or inp == {'🐮'} or inp == {'♉'}:\n",
    "        inp = {'牛'}\n",
    "    elif inp == {'♊'}:\n",
    "        inp = {'雙子'}\n",
    "    elif inp == {'巨蟹'} or inp == {'🦀️'} or inp == {'♋'} or inp == {''}:\n",
    "        inp = {'蟹'}\n",
    "    elif inp == {'🦁️'} or inp == {'♌'}:\n",
    "        inp = {'獅'}\n",
    "    elif inp == {'♍'}:\n",
    "        inp = {'處女'}\n",
    "    elif inp == {'天秤'} or inp == {'⚖️'} or inp == {'♎'}:\n",
    "        inp = {'秤'}\n",
    "    elif inp == {'天蠍'} or inp == {'🦂️'} or inp == {'♏'}:\n",
    "        inp = {'蠍'}\n",
    "    elif inp == {'🏹️'} or inp == {'♐'}:\n",
    "        inp = {'射手'}\n",
    "    return inp"
   ]
  },
  {
   "cell_type": "code",
   "execution_count": 12,
   "metadata": {},
   "outputs": [],
   "source": [
    "def classify1_1(data, num_class):\n",
    "    first = {}\n",
    "    for ID in data:    \n",
    "        reg = re.compile(r'(魔|摩|羯|♑|瓶|♒|魚|🐟|🐠|♓|羊|🐑|♈|牛|🐂|🐮|♉|雙子|♊|蟹|🦀️|♋|獅|🦁️|♌|處女|♍|秤|⚖️|♎|蠍|🦂️|♏|射手|🏹️|♐).*(男|女).*(魔|摩|羯|♑|瓶|♒|魚|🐟|🐠|♓|羊|🐑|♈|牛|🐂|🐮|♉|雙子|♊|蟹|🦀️|♋|獅|🦁️|♌|處女|♍|秤|⚖️|♎|蠍|🦂️|♏|射手|🏹️|♐).*(男|女)')\n",
    "        output = reg.findall(data[ID]['title'])\n",
    "        if len(output)!=0 and output[0][1]!=output[0][3] : # different gender            \n",
    "            # print(data[a]['title'])\n",
    "            if data[ID]['gender']==\"F\":\n",
    "                ans = output[0][output[0].index(\"女\")-1]\n",
    "            else:\n",
    "                ans = output[0][output[0].index(\"男\")-1]\n",
    "            # print (data[a]['id'])\n",
    "            # print (a, data[a]['gender'], output[0],\"-->\", ans, mapping (ans, num_class))\n",
    "            # first[str(data[a]['id'])]=[]\n",
    "            # first[str(data[a]['id'])].append(data[a])\n",
    "            # first[str(data[a]['id'])].append(mapping(ans, num_class))\n",
    "            first[str(data[ID]['id'])] = mapping(ans, num_class)\n",
    "    return first"
   ]
  },
  {
   "cell_type": "code",
   "execution_count": 14,
   "metadata": {},
   "outputs": [],
   "source": [
    "def classify1_2(data, num_class):\n",
    "    second = {}\n",
    "    reg = re.compile(r'(魔|摩|羯|♑|瓶|♒|魚|🐟|🐠|♓|羊|🐑|♈|牛|🐂|🐮|♉|雙子|♊|蟹|🦀️|♋|獅|🦁️|♌|處女|♍|秤|⚖️|♎|蠍|🦂️|♏|射手|🏹️|♐)')\n",
    "    reg_tag = re.compile(r'(羯|瓶|魚|羊|牛|雙子|蟹|獅|處女|秤|蠍|射手)')\n",
    "    for ID in data:\n",
    "        output = set(reg.findall(jf[ID]['title']))\n",
    "        output = horoNorm1(output)\n",
    "        if len(output)==1:\n",
    "            output = horoNorm2(output)\n",
    "            another = list(output)\n",
    "            together = \" \".join(jf[ID]['topics'])\n",
    "            tags = set(reg_tag.findall(together))            \n",
    "            if len(tags)==2:\n",
    "                sign = tags - set(another)\n",
    "                ans = list(sign)[0]\n",
    "                # print (a, jf[a]['title'], ans, mapping(ans, num_class))\n",
    "                second[str(data[ID]['id'])] = mapping(ans, num_class)\n",
    "                if len(jf[ID]['content'])<30:\n",
    "                    print (jf[ID]['id'])\n",
    "    return second"
   ]
  },
  {
   "cell_type": "code",
   "execution_count": 16,
   "metadata": {},
   "outputs": [],
   "source": [
    "def SenBySen(sep):\n",
    "    notme = {\"另\",\"友\",\"任\",\"閃\",\"方\",\"媽\",\"爸\",\"哥\",\"姊\",\"弟\",\"妹\",\"公\",\"婆\",\"她\",\"他\",\"家\",\"果\",\"遇\"}\n",
    "    reg = re.compile(r'(我|自己|本人|本身|本魯|小弟|魯弟|小妹|魯妹|小女子|原po|在下|偶)(.*)?是(.*)?(摩|魔|羯|瓶|魚|🐟|🐠|羊|🐑|牛|🐮|🐂|雙子|蟹|🦀️|獅|🦁️|處女|秤|⚖️|蠍|🦂️|射手|🏹️)')\n",
    "    reg_meFirst = re.compile(r'(我|本人|自己)是(.*)?(羯|瓶|魚|羊|牛|雙子|蟹|獅|處女|秤|蠍|射手)(.*)?(他|她|閃|友|任|方|男|女)是(.*)?(羯|瓶|魚|羊|牛|雙子|蟹|獅|處女|秤|蠍|射手)')\n",
    "    reg_heFirst = re.compile(r'(他|她|閃|友|任|方|男|女)(.*)?是(.*)?(羯|瓶|魚|羊|牛|雙子|蟹|獅|處女|秤|蠍|射手)(.*)?(我)是(.*)?(羯|瓶|魚|羊|牛|雙子|蟹|獅|處女|秤|蠍|射手)')    \n",
    "    \n",
    "    ans = -1\n",
    "    ans2 = -1\n",
    "    for i in range(len(sep)):\n",
    "        if sep[i][-1]=='眷':\n",
    "            continue\n",
    "        output = reg.findall(sep[i])\n",
    "        flag = True\n",
    "        if len(output)!=0:\n",
    "            if len(output[0][1])!=0:\n",
    "                if (output[0][1][-1] in {\"不\",\"的\",\"只\",\"像\",\"還\",\"這\"}):\n",
    "                    flag = False\n",
    "                elif output[0][1][-1]==\"都\":\n",
    "                    if output[0][1][0] not in {\"們\", \"跟\", \"和\", \"與\"}:\n",
    "                        flag = False\n",
    "                else:\n",
    "                    if len(set(output[0][1]) & notme)!=0 and output[0][1][-1]!='也':\n",
    "                        flag = False  \n",
    "            if len(output[0][2])!=0:\n",
    "                if re.findall(\"遇\", output[0][2]) != []:\n",
    "                    flag = False\n",
    "                if output[0][2][-1]==\"跟\":\n",
    "                    flag = False\n",
    "            if flag == True:\n",
    "                ans = output[0][-1]\n",
    "                #print (sep[i])\n",
    "                continue\n",
    "        \n",
    "        output1 = reg_meFirst.findall(sep[i])\n",
    "        output2 = reg_heFirst.findall(sep[i])        \n",
    "        if len(output1)!=0: \n",
    "            ans = output1[0][2]\n",
    "            ans2 = output1[0][-1]\n",
    "        elif len(output2)!=0:\n",
    "            ans = output2[0][-1] \n",
    "            ans2 = output2[0][3]\n",
    "            \n",
    "    return ans, ans2\n",
    "\n",
    "def classify1_3(data, num_class):    \n",
    "    third = {}\n",
    "    for ID in data:\n",
    "        content = data[ID]['content']\n",
    "        holder = re.split(',|\\?| |\\(|\\)|\\.|~|，|。|、|\\n|：|；|？|…|⋯|（|）|！|～',content)\n",
    "        Sep = []\n",
    "        for i in range(len(holder)):\n",
    "            if len(holder[i])>2:\n",
    "                Sep.append(holder[i])\n",
    "        Answer, Answer2 = SenBySen(Sep)\n",
    "        if Answer != -1:\n",
    "            third[str(data[ID]['id'])] = mapping(Answer, num_class)                        \n",
    "    return third\n"
   ]
  },
  {
   "cell_type": "code",
   "execution_count": 17,
   "metadata": {},
   "outputs": [],
   "source": [
    "def classify1_4(data, num_class):\n",
    "    forth = {}\n",
    "    reg = re.compile\\\n",
    "    (r'(BY|By|by|btw|BTW|Btw|-)(.*)?(摩|魔|羯|瓶|魚|🐟|🐠|羊|🐑|牛|🐮|🐂|雙子|蟹|🦀️|獅|🦁️|處女|秤|⚖️|蠍|🦂️|射手|🏹️)')\n",
    "    # sign = re.compile(r'(摩|魔|羯|瓶|魚|羊|牛|雙子|蟹|獅|處女|秤|蠍|射手)')    \n",
    "    for ID in data:\n",
    "        content = data[ID]['content']\n",
    "        holder = re.split(',|\\?| |\\(|\\)|\\.|~|，|。|、|\\n|：|；|？|…|⋯|（|）|！|～',content)\n",
    "        sep = []\n",
    "        for i in range(len(holder)):\n",
    "            if len(holder[i])>2:\n",
    "                sep.append(holder[i])\n",
    "\n",
    "        if len(sep)!=0:\n",
    "            output = reg.findall(sep[-1])\n",
    "            flag = True            \n",
    "            if len(output)!=0:\n",
    "                # print (output[0])\n",
    "                ans = output[0][-1]\n",
    "                # print (sep[-1])\n",
    "                # print (str(reg.search(sep[-1]))+str(data[a]['id'])+\" --> \"+ ans+ str(mapping(ans, num_class)))\n",
    "                # forth[str(data[a]['id'])]=[]\n",
    "                # forth[str(data[a]['id'])].append(data[a])\n",
    "                # forth[str(data[a]['id'])].append(mapping(ans, num_class))\n",
    "                forth[str(data[ID]['id'])] = mapping(ans, num_class)\n",
    "    return forth"
   ]
  },
  {
   "cell_type": "code",
   "execution_count": 18,
   "metadata": {},
   "outputs": [],
   "source": [
    "def Gather(NCLASS):\n",
    "    way1 = classify1_1(jf, NCLASS)\n",
    "    way2 = classify1_2(jf, NCLASS)\n",
    "    way3 = classify1_3(jf, NCLASS)\n",
    "    way4 = classify1_4(jf, NCLASS)\n",
    "\n",
    "    test = {}\n",
    "    test.update(way1)\n",
    "    test.update(way2)\n",
    "    test.update(way3)\n",
    "    test.update(way4)\n",
    "    return test\n",
    "\n",
    "id_type = Gather(4)"
   ]
  },
  {
   "cell_type": "code",
   "execution_count": 19,
   "metadata": {},
   "outputs": [
    {
     "name": "stdout",
     "output_type": "stream",
     "text": [
      "[1831, 1758, 2091, 1797]\n"
     ]
    }
   ],
   "source": [
    "# see how much auther each type\n",
    "fourCounter=[0,0,0,0]\n",
    "for ele in id_type.values():\n",
    "    fourCounter[ele]+=1\n",
    "print (fourCounter)\n",
    "# [2344, 2226, 2715, 2311]"
   ]
  },
  {
   "cell_type": "code",
   "execution_count": 20,
   "metadata": {},
   "outputs": [
    {
     "name": "stdout",
     "output_type": "stream",
     "text": [
      "[1831, 1758, 2091, 1797, 0, 0, 0, 0, 0, 0, 0, 0]\n"
     ]
    }
   ],
   "source": [
    "# see how much auther each horoscope\n",
    "twelveCounter=[0,0,0,0,0,0,0,0,0,0,0,0]\n",
    "for ele in id_type.values():\n",
    "    twelveCounter[ele]+=1\n",
    "print (twelveCounter)"
   ]
  },
  {
   "cell_type": "code",
   "execution_count": 21,
   "metadata": {},
   "outputs": [],
   "source": [
    "with open('four_type0730.json', 'w', encoding='utf-8') as f:\n",
    "    json.dump(id_type, f, ensure_ascii=False)"
   ]
  },
  {
   "cell_type": "code",
   "execution_count": null,
   "metadata": {},
   "outputs": [],
   "source": []
  },
  {
   "cell_type": "code",
   "execution_count": null,
   "metadata": {},
   "outputs": [],
   "source": []
  },
  {
   "cell_type": "code",
   "execution_count": null,
   "metadata": {},
   "outputs": [],
   "source": []
  },
  {
   "cell_type": "code",
   "execution_count": 28,
   "metadata": {},
   "outputs": [],
   "source": [
    "def whoTAGwho(data, num_class):\n",
    "    def mainChar(gen, i, u):\n",
    "        if gen=='F':\n",
    "            mtx_f[i][u]+=1\n",
    "        else:\n",
    "            mtx_m[i][u]+=1\n",
    "            \n",
    "    reg_title = re.compile(r'(魔|摩|羯|♑|瓶|♒|魚|🐟|🐠|♓|羊|🐑|♈|牛|🐂|🐮|♉|雙子|♊|蟹|🦀️|♋|獅|🦁️|♌|處女|♍|秤|⚖️|♎|蠍|🦂️|♏|射手|🏹️|♐).*(男|女).*(魔|摩|羯|♑|瓶|♒|魚|🐟|🐠|♓|羊|🐑|♈|牛|🐂|🐮|♉|雙子|♊|蟹|🦀️|♋|獅|🦁️|♌|處女|♍|秤|⚖️|♎|蠍|🦂️|♏|射手|🏹️|♐).*(男|女)')\n",
    "    reg = re.compile(r'(魔|摩|羯|♑|瓶|♒|魚|🐟|🐠|♓|羊|🐑|♈|牛|🐂|🐮|♉|雙子|♊|蟹|🦀️|♋|獅|🦁️|♌|處女|♍|秤|⚖️|♎|蠍|🦂️|♏|射手|🏹️|♐)')\n",
    "    reg_sex = re.compile(r'(男|女)')\n",
    "    reg_tag = re.compile(r'(羯|瓶|魚|羊|牛|雙子|蟹|獅|處女|秤|蠍|射手)')\n",
    "    reg_same1 = re.compile(r'(我們|我和|我跟|和我|跟我)(.*)?(都是|都4|一樣是|同一|同星)(.*)?(摩|羯|魔|瓶|魚|🐟|🐠|羊|🐑|牛|🐮|🐂|雙子|蟹|🦀️|獅|🦁️|處女|秤|⚖️|蠍|🦂️|射手|🏹️)')\n",
    "    reg_same2 = re.compile(r'是(.*)?(羯羯配|瓶瓶配|魚魚配|羊羊配|牛牛配|雙雙配|蟹蟹配|獅獅配|處處配|秤秤配|蠍蠍配|射射戀|羯羯戀|瓶瓶戀|魚魚戀|羊羊戀|牛牛戀|雙雙戀|蟹蟹戀|獅獅戀|處處戀|秤秤戀|蠍蠍戀|射射戀)')\n",
    "    reg_same3 = re.compile(r'(.)同星座')\n",
    "    reg_same4 = re.compile(r'(我|自己|本人|本身|她|他|友|閃|另一半|現任|前任|爸|媽|哥|弟|姊|妹)(.*)?(也是)(摩|羯|魔|瓶|水瓶|魚|雙魚|🐟|🐠|羊|牡羊|🐑|牛|金牛|🐮|🐂|雙子|蟹|🦀️|獅|🦁️|處女|秤|天秤|⚖️|蠍|天蠍|🦂️|射手|🏹️)')\n",
    "    reg_intro = re.compile(r'(他|她|閃|友|任|方|男|女|家)(.*)?是(.*)?(摩|魔|羯|瓶|魚|🐟|🐠|羊|🐑|牛|🐮|🐂|雙子|蟹|🦀️|獅|🦁️|處女|秤|⚖️|蠍|🦂️|射手|🏹️)')\n",
    "    \n",
    "    mtx_m = [[0 for x in range(num_class)] for y in range(num_class)]\n",
    "    mtx_f = [[0 for x in range(num_class)] for y in range(num_class)]\n",
    "    wtw = {}\n",
    "    \n",
    "    for a in range(num_data):\n",
    "        ID = str(data[a]['id'])\n",
    "        gender = data[a]['gender']\n",
    "        \n",
    "        if ID in id_type.keys():\n",
    "        \n",
    "            #judge by title, content, gender \n",
    "            output = set(reg.findall(data[a]['title']))\n",
    "            output = horoNorm1(output)\n",
    "            sex = reg_sex.findall(data[a]['title'])\n",
    "            if len(output)==1 and len(sex)==1:\n",
    "                output = horoNorm2(output)\n",
    "                another = list(output)[0]\n",
    "                if sex[0]=='男' and gender=='F':\n",
    "                    me, you = id_type[ID], mapping(another, num_class)\n",
    "                    mainChar(gender, me, you)  #print(ID, me, \"-->\", you, data[a]['title'])\n",
    "                    wtw[ID] = you\n",
    "                    continue\n",
    "                elif sex[0]=='女' and gender=='M':\n",
    "                    me, you = id_type[ID], mapping(another, num_class)\n",
    "                    mainChar(gender, me, you)  #print(ID, me, \"-->\", you, data[a]['title'])\n",
    "                    wtw[ID] = you\n",
    "                    continue\n",
    "\n",
    "            # judge by title and gender\n",
    "            output = reg_title.findall(data[a]['title'])\n",
    "            if len(output)!=0 and output[0][1]!=output[0][3] : # different gender            \n",
    "                if gender==\"F\":\n",
    "                    ans = output[0][output[0].index(\"女\")-1]\n",
    "                    ref = output[0][output[0].index(\"男\")-1]\n",
    "                else:\n",
    "                    ans = output[0][output[0].index(\"男\")-1]\n",
    "                    ref = output[0][output[0].index(\"女\")-1]\n",
    "                me, you = mapping(ans, num_class), mapping(ref, num_class)\n",
    "                mainChar(gender, me, you)  #print(data[a]['gender'],ans,me,\"-->\",ref,you)\n",
    "                wtw[ID] = you\n",
    "                continue\n",
    "\n",
    "            # judge by title, tag\n",
    "            output = set(reg.findall(data[a]['title']))\n",
    "            output = horoNorm1(output)\n",
    "            if len(output)==1:\n",
    "                output = horoNorm2(output)\n",
    "                another = list(output)\n",
    "                together = \" \".join(data[a]['topics'])\n",
    "                tags = set(reg_tag.findall(together))            \n",
    "                if len(tags)==2:\n",
    "                    sign = tags - set(another)\n",
    "                    ans, ref = list(sign)[0], another[0]\n",
    "                    me, you = mapping(ans, num_class), mapping(ref, num_class)  #print(jf[a]['title'],ans,me,\"-->\",ref,you)\n",
    "                    mainChar(gender, me, you)\n",
    "                    wtw[ID] = you\n",
    "                    continue\n",
    "\n",
    "            \n",
    "            content = data[a]['content']\n",
    "            holder = re.split(',|\\?| |\\(|\\)|\\.|~|，|。|、|\\n|：|；|？|…|⋯|（|）|！|～',content)\n",
    "            sep = []\n",
    "            for i in range(len(holder)):\n",
    "                if len(holder[i])>2:\n",
    "                    sep.append(holder[i])\n",
    "                    \n",
    "            ans, ref = SenBySen(sep)\n",
    "            if ans!=-1 and ref!=-1:\n",
    "                me, you = mapping(ans, num_class), mapping(ref, num_class)\n",
    "                mainChar(gender, me, you)\n",
    "                wtw[ID] = you\n",
    "                continue\n",
    "\n",
    "            for i in range(len(sep)):\n",
    "                if len( reg_same1.findall(sep[i]) )!=0:\n",
    "                    output = reg_same1.findall(sep[i])\n",
    "                    ans = output[0][-1]\n",
    "                    we = mapping(ans, num_class)\n",
    "                    mainChar(gender, we, we)\n",
    "                    wtw[ID] = we                  \n",
    "                elif len( reg_same2.findall(sep[i]) )!=0:\n",
    "                    output = reg_same2.findall(sep[i])\n",
    "                    ans = output[0][-1][-2]\n",
    "                    we = mapping(ans, num_class)\n",
    "                    mainChar(gender, we, we)\n",
    "                    wtw[ID] = we\n",
    "                elif len( reg_same3.findall(sep[i]) )!=0:\n",
    "                    output = reg_same3.findall(sep[i])\n",
    "                    if (ID in id_type) and output[0]!='不':\n",
    "                        we = id_type[ID]\n",
    "                        mainChar(gender, we, we)\n",
    "                        wtw[ID] = we\n",
    "                elif len( reg_same4.findall(sep[i]) )!=0:\n",
    "                    output = reg_same4.findall(sep[i])\n",
    "                    output = horoNorm2(output)\n",
    "                    ans = output[0][-1]\n",
    "                    we = mapping(ans, num_class)\n",
    "                    if we == id_type[ID]:\n",
    "                        mainChar(gender, we, we)\n",
    "                        wtw[ID] = we  #print(ID, reg_same4.findall(sep[i]), sep[i])\n",
    "                elif len( reg_intro.findall(sep[i]) )!=0:\n",
    "                    output = reg_intro.findall(sep[i])\n",
    "                    ref = output[0][-1]\n",
    "                    me ,you = id_type[ID], mapping(ref, num_class)\n",
    "                    mainChar(gender, me, you)\n",
    "                    wtw[ID] = you                   \n",
    "    return mtx_m, mtx_f, wtw\n"
   ]
  },
  {
   "cell_type": "code",
   "execution_count": 29,
   "metadata": {
    "scrolled": false
   },
   "outputs": [],
   "source": [
    "# relation: list of list\n",
    "relation_m, relation_f, crush = whoTAGwho(jf, 4)"
   ]
  },
  {
   "cell_type": "code",
   "execution_count": 379,
   "metadata": {},
   "outputs": [],
   "source": [
    "import pandas as pd\n",
    "def makeForm(rM, rF, num_class):    \n",
    "    if num_class==12:\n",
    "        cnameF = ['摩羯女','水瓶女','雙魚女','牡羊女','金牛女','雙子女','巨蟹女','獅子女','處女女','天秤女','天蠍女','射手女']\n",
    "        df = pd.DataFrame(rM, columns = cnameF)\n",
    "        Mmain = df.rename(index={0:'摩羯男',1:'水瓶男',2:'雙魚男',3:'牡羊男',4:'金牛男',5:'雙子男',6:'巨蟹男',7:'獅子男',8:'處女男',9:'天秤男',10:'天蠍男',11:'射手男'})\n",
    "\n",
    "        cnameM = ['摩羯男','水瓶男','雙魚男','牡羊男','金牛男','雙子男','巨蟹男','獅子男','處女男','天秤男','天蠍男','射手男']\n",
    "        df2 = pd.DataFrame(rF, columns = cnameM)\n",
    "        Fmain = df2.rename(index={0:'摩羯女',1:'水瓶女',2:'雙魚女',3:'牡羊女',4:'金牛女',5:'雙子女',6:'巨蟹女',7:'獅子女',8:'處女女',9:'天秤女',10:'天蠍女',11:'射手女'})\n",
    "    elif num_class==4:\n",
    "        cnameF = ['土象女','風象女','水象女','火象女']\n",
    "        df = pd.DataFrame(rM, columns = cnameF)\n",
    "        Mmain = df.rename(index={0:'土象男',1:'風向男',2:'水象男',3:'火象男'})\n",
    "\n",
    "        cnameM = ['土象男','風象男','水象男','火象男']\n",
    "        df2 = pd.DataFrame(rF, columns = cnameM)\n",
    "        Fmain = df2.rename(index={0:'土象女',1:'風象女',2:'水象女',3:'火象女'})\n",
    "    return Mmain, Fmain\n",
    "\n",
    "MaleMain, FemaleMain = makeForm(relation_m, relation_f, 4)\n"
   ]
  },
  {
   "cell_type": "code",
   "execution_count": 380,
   "metadata": {},
   "outputs": [
    {
     "data": {
      "text/html": [
       "<div>\n",
       "<style scoped>\n",
       "    .dataframe tbody tr th:only-of-type {\n",
       "        vertical-align: middle;\n",
       "    }\n",
       "\n",
       "    .dataframe tbody tr th {\n",
       "        vertical-align: top;\n",
       "    }\n",
       "\n",
       "    .dataframe thead th {\n",
       "        text-align: right;\n",
       "    }\n",
       "</style>\n",
       "<table border=\"1\" class=\"dataframe\">\n",
       "  <thead>\n",
       "    <tr style=\"text-align: right;\">\n",
       "      <th></th>\n",
       "      <th>土象女</th>\n",
       "      <th>風象女</th>\n",
       "      <th>水象女</th>\n",
       "      <th>火象女</th>\n",
       "    </tr>\n",
       "  </thead>\n",
       "  <tbody>\n",
       "    <tr>\n",
       "      <th>土象男</th>\n",
       "      <td>175</td>\n",
       "      <td>89</td>\n",
       "      <td>140</td>\n",
       "      <td>106</td>\n",
       "    </tr>\n",
       "    <tr>\n",
       "      <th>風向男</th>\n",
       "      <td>89</td>\n",
       "      <td>114</td>\n",
       "      <td>101</td>\n",
       "      <td>108</td>\n",
       "    </tr>\n",
       "    <tr>\n",
       "      <th>水象男</th>\n",
       "      <td>128</td>\n",
       "      <td>121</td>\n",
       "      <td>196</td>\n",
       "      <td>137</td>\n",
       "    </tr>\n",
       "    <tr>\n",
       "      <th>火象男</th>\n",
       "      <td>121</td>\n",
       "      <td>101</td>\n",
       "      <td>100</td>\n",
       "      <td>129</td>\n",
       "    </tr>\n",
       "  </tbody>\n",
       "</table>\n",
       "</div>"
      ],
      "text/plain": [
       "     土象女  風象女  水象女  火象女\n",
       "土象男  175   89  140  106\n",
       "風向男   89  114  101  108\n",
       "水象男  128  121  196  137\n",
       "火象男  121  101  100  129"
      ]
     },
     "execution_count": 380,
     "metadata": {},
     "output_type": "execute_result"
    }
   ],
   "source": [
    "MaleMain"
   ]
  },
  {
   "cell_type": "code",
   "execution_count": 381,
   "metadata": {},
   "outputs": [
    {
     "data": {
      "text/html": [
       "<div>\n",
       "<style scoped>\n",
       "    .dataframe tbody tr th:only-of-type {\n",
       "        vertical-align: middle;\n",
       "    }\n",
       "\n",
       "    .dataframe tbody tr th {\n",
       "        vertical-align: top;\n",
       "    }\n",
       "\n",
       "    .dataframe thead th {\n",
       "        text-align: right;\n",
       "    }\n",
       "</style>\n",
       "<table border=\"1\" class=\"dataframe\">\n",
       "  <thead>\n",
       "    <tr style=\"text-align: right;\">\n",
       "      <th></th>\n",
       "      <th>土象男</th>\n",
       "      <th>風象男</th>\n",
       "      <th>水象男</th>\n",
       "      <th>火象男</th>\n",
       "    </tr>\n",
       "  </thead>\n",
       "  <tbody>\n",
       "    <tr>\n",
       "      <th>土象女</th>\n",
       "      <td>419</td>\n",
       "      <td>284</td>\n",
       "      <td>369</td>\n",
       "      <td>246</td>\n",
       "    </tr>\n",
       "    <tr>\n",
       "      <th>風象女</th>\n",
       "      <td>356</td>\n",
       "      <td>392</td>\n",
       "      <td>328</td>\n",
       "      <td>259</td>\n",
       "    </tr>\n",
       "    <tr>\n",
       "      <th>水象女</th>\n",
       "      <td>399</td>\n",
       "      <td>334</td>\n",
       "      <td>468</td>\n",
       "      <td>322</td>\n",
       "    </tr>\n",
       "    <tr>\n",
       "      <th>火象女</th>\n",
       "      <td>442</td>\n",
       "      <td>273</td>\n",
       "      <td>320</td>\n",
       "      <td>312</td>\n",
       "    </tr>\n",
       "  </tbody>\n",
       "</table>\n",
       "</div>"
      ],
      "text/plain": [
       "     土象男  風象男  水象男  火象男\n",
       "土象女  419  284  369  246\n",
       "風象女  356  392  328  259\n",
       "水象女  399  334  468  322\n",
       "火象女  442  273  320  312"
      ]
     },
     "execution_count": 381,
     "metadata": {},
     "output_type": "execute_result"
    }
   ],
   "source": [
    "FemaleMain"
   ]
  },
  {
   "cell_type": "code",
   "execution_count": 30,
   "metadata": {},
   "outputs": [
    {
     "name": "stdout",
     "output_type": "stream",
     "text": [
      "9596\n",
      "8252\n"
     ]
    }
   ],
   "source": [
    "print (len(id_type.keys()))\n",
    "print (len(crush))\n",
    "with open('crush0228_4.json', 'w', encoding='utf-8') as f:\n",
    "    json.dump(crush, f, ensure_ascii=False)"
   ]
  },
  {
   "cell_type": "code",
   "execution_count": 383,
   "metadata": {},
   "outputs": [],
   "source": [
    "import pickle\n",
    "\n",
    "def save_data(data, file):\n",
    "\twith open(file, 'wb') as f:\n",
    "\t\tpickle.dump(data, f)\n",
    "        \n",
    "save_data(MaleMain, 'relation_male_4.pickle')\n",
    "save_data(FemaleMain, 'relation_female_4.pickle')"
   ]
  },
  {
   "cell_type": "code",
   "execution_count": null,
   "metadata": {},
   "outputs": [],
   "source": []
  },
  {
   "cell_type": "code",
   "execution_count": null,
   "metadata": {},
   "outputs": [],
   "source": []
  },
  {
   "cell_type": "code",
   "execution_count": null,
   "metadata": {},
   "outputs": [],
   "source": []
  },
  {
   "cell_type": "code",
   "execution_count": null,
   "metadata": {},
   "outputs": [],
   "source": []
  },
  {
   "cell_type": "code",
   "execution_count": null,
   "metadata": {},
   "outputs": [],
   "source": []
  },
  {
   "cell_type": "code",
   "execution_count": null,
   "metadata": {},
   "outputs": [],
   "source": []
  },
  {
   "cell_type": "markdown",
   "metadata": {},
   "source": [
    "## 分十二類 （兩層）"
   ]
  },
  {
   "cell_type": "code",
   "execution_count": 42,
   "metadata": {},
   "outputs": [],
   "source": [
    "twelve = [{'魔','摩','羯','♑'},{'牛','🐂','🐮','♉'},{'處女','♍'}]\n",
    "fong = [{'瓶','♒'},{'雙子','♊'},{'秤','⚖️','♎'}]\n",
    "sui = [{'魚','🐟','🐠','♓'},{'蟹','🦀️','♋'},{'蠍','🦂️','♏'}]\n",
    "huo = [{'羊','🐑','♈'},{'獅','🦁️','♌'},{'射手','🏹️','♐'}]"
   ]
  },
  {
   "cell_type": "code",
   "execution_count": 43,
   "metadata": {},
   "outputs": [],
   "source": [
    "def mapping2(char, group):\n",
    "    for i in range(3):\n",
    "        if char in group[i]:\n",
    "            return i"
   ]
  },
  {
   "cell_type": "code",
   "execution_count": 133,
   "metadata": {},
   "outputs": [],
   "source": [
    "def classify2_1(data, name):\n",
    "    first = {}\n",
    "    for a in range(len(data)):    \n",
    "        reg = re.compile(r'(魔|摩|羯|♑|瓶|♒|魚|🐟|🐠|♓|羊|🐑|♈|牛|🐂|🐮|♉|雙子|♊|蟹|🦀️|♋|獅|🦁️|♌|處女|♍|秤|⚖️|♎|蠍|🦂️|♏|射手|🏹️|♐).*(男|女).*(魔|摩|羯|♑|瓶|♒|魚|🐟|🐠|♓|羊|🐑|♈|牛|🐂|🐮|♉|雙子|♊|蟹|🦀️|♋|獅|🦁️|♌|處女|♍|秤|⚖️|♎|蠍|🦂️|♏|射手|🏹️|♐).*(男|女)')\n",
    "        output = reg.findall(data[a]['title'])\n",
    "        if len(output)!=0 and output[0][1]!=output[0][3] : # different gender\n",
    "            if data[a]['gender']==\"F\":\n",
    "                ans = output[0][output[0].index(\"女\")-1]\n",
    "            else:\n",
    "                ans = output[0][output[0].index(\"男\")-1]\n",
    "            first[str(data[a]['id'])]=[]\n",
    "            first[str(data[a]['id'])].append([data[a]['id'], data[a]['title'], data[a]['content'], data[a]['topics']])\n",
    "            start = id_type[str(data[a]['id'])]*3\n",
    "            if mapping2(ans, name)==None:\n",
    "                print (data[a])\n",
    "            first[str(data[a]['id'])].append(mapping2(ans, name))\n",
    "            print (mapping2(ans, name))\n",
    "    return first"
   ]
  },
  {
   "cell_type": "code",
   "execution_count": 135,
   "metadata": {},
   "outputs": [],
   "source": [
    "def classify2_2(data, name):\n",
    "    second = {}\n",
    "    reg = re.compile(r'(魔|摩|羯|♑|瓶|♒|魚|🐟|🐠|♓|羊|🐑|♈|牛|🐂|🐮|♉|雙子|♊|蟹|🦀️|♋|獅|🦁️|♌|處女|♍|秤|⚖️|♎|蠍|🦂️|♏|射手|🏹️|♐)')\n",
    "    \n",
    "    for a in range(len(data)):\n",
    "        output = reg.findall(data[a]['title'])\n",
    "        if len(output)==1:\n",
    "            if output[0]=='魔':\n",
    "                output[0] = '摩'\n",
    "            together = \" \".join(data[a]['topics'])\n",
    "            another = {1}\n",
    "            another.add(output[0])\n",
    "            tags = set(reg.findall(together))\n",
    "            if len(tags)==2:\n",
    "                sign = tags - another\n",
    "                # print (a, data[a]['title'], tags, \"-\", output[0], \"-->\", end=\" \")\n",
    "                ans = list(sign)[0]\n",
    "                # print (ans, mapping2(ans, name))\n",
    "                second[str(data[a]['id'])]=[]\n",
    "                second[str(data[a]['id'])].append([data[a]['id'], data[a]['title'], data[a]['content'], data[a]['topics']])\n",
    "                start = id_type[str(data[a]['id'])]*3\n",
    "                if mapping2(ans, name)==None:\n",
    "                        print (data[a])\n",
    "                second[str(data[a]['id'])].append(mapping2(ans, name))\n",
    "    return second"
   ]
  },
  {
   "cell_type": "code",
   "execution_count": 21,
   "metadata": {},
   "outputs": [],
   "source": [
    "def classify2_3(data, name):\n",
    "    third = {}\n",
    "    notme = {\"另\",\"友\",\"任\",\"閃\",\"媽\",\"爸\",\"哥\",\"姊\",\"弟\",\"妹\",\"公\",\"婆\",\"她\",\"他\",\"家\",\"果\",\"遇\"}\n",
    "    reg = re.compile\\\n",
    "    (r'(我|本人|本身|小弟|小妹|小女子|原po|在下|偶)(.*)?是(.*)?(摩|魔|羯|瓶|魚|🐟|🐠|羊|🐑|牛|🐮|🐂|雙子|蟹|🦀️|獅|🦁️|處女|秤|⚖️|蠍|🦂️|射手|🏹️)')\n",
    "    # sign = re.compile(r'(摩|魔|羯|瓶|魚|羊|牛|雙子|蟹|獅|處女|秤|蠍|射手)')    \n",
    "    for a in range(len(data)):\n",
    "        content = data[a]['content']\n",
    "        holder = re.split(',|\\?| |\\(|\\)|\\.|~|，|。|、|\\n|：|；|？|…|⋯|（|）|！|～',content)\n",
    "        sep = []\n",
    "        for i in range(len(holder)):\n",
    "            if len(holder[i])>2:\n",
    "                sep.append(holder[i])\n",
    "\n",
    "        for i in range(len(sep)):\n",
    "            output = reg.findall(sep[i])\n",
    "            flag = True\n",
    "            if sep[i][-1]=='眷':\n",
    "                continue\n",
    "            if len(output)!=0:\n",
    "                if len(output[0][1])!=0:\n",
    "                    if output[0][1][-1] in {\"不\",\"的\",\"只\",\"像\",\"還\",\"這\"}:\n",
    "                        flag = False\n",
    "                    elif output[0][1][-1]==\"都\":\n",
    "                        if output[0][1][0] not in {\"們\", \"跟\", \"和\", \"與\"}:\n",
    "                            flag = False\n",
    "                    else:\n",
    "                        if len(set(output[0][1]) & notme)!=0:\n",
    "                            flag = False  \n",
    "\n",
    "                if len(output[0][2])!=0:\n",
    "                    if re.findall(\"遇\", output[0][2]) != []:\n",
    "                        flag = False\n",
    "                    if output[0][2][-1]==\"跟\":\n",
    "                        flag = False\n",
    "                if flag == True:\n",
    "                    ans = output[0][-1]\n",
    "                    # print (str(reg.search(sep[i]))+str(data[a]['id'])+\" --> \"+ ans+ str(mapping2(ans, name)))\n",
    "                    third[str(data[a]['id'])]=[]\n",
    "                    third[str(data[a]['id'])].append([data[a]['id'], data[a]['title'], data[a]['content'], data[a]['topics']])\n",
    "                    start = id_type[str(data[a]['id'])]*3\n",
    "                    if mapping2(ans, name)==None:\n",
    "                        print (data[a])\n",
    "                    third[str(data[a]['id'])].append(mapping2(ans, name))\n",
    "    return third"
   ]
  },
  {
   "cell_type": "code",
   "execution_count": 110,
   "metadata": {},
   "outputs": [],
   "source": [
    "def mix3way(ds, kind):\n",
    "    a1 = classify2_1(ds, kind)\n",
    "    a2 = classify2_2(ds, kind)\n",
    "    a3 = classify2_3(ds, kind)\n",
    "    empty = {}\n",
    "    empty.update(a1)\n",
    "    empty.update(a2)\n",
    "    empty.update(a3)\n",
    "    ids = list(empty.keys())\n",
    "    counter = [0,0,0]\n",
    "    for ID in ids:\n",
    "        counter[empty[ID][1]]+=1\n",
    "    print (counter)\n",
    "    \n",
    "    return empty"
   ]
  },
  {
   "cell_type": "code",
   "execution_count": null,
   "metadata": {},
   "outputs": [],
   "source": [
    "# typen['id'] = [datas, num]\n",
    "type1 = mix3way(earth, tu)\n",
    "type2 = mix3way(wind, fong)\n",
    "type3 = mix3way(water, sui)\n",
    "type4 = mix3way(fire, huo)"
   ]
  },
  {
   "cell_type": "code",
   "execution_count": null,
   "metadata": {},
   "outputs": [],
   "source": []
  },
  {
   "cell_type": "code",
   "execution_count": 86,
   "metadata": {},
   "outputs": [],
   "source": []
  },
  {
   "cell_type": "code",
   "execution_count": 87,
   "metadata": {},
   "outputs": [
    {
     "name": "stdout",
     "output_type": "stream",
     "text": [
      "[403, 500, 640]\n",
      "[508, 484, 536]\n",
      "[576, 634, 697]\n",
      "[517, 571, 514]\n"
     ]
    }
   ],
   "source": [
    "id_type12 = mix4type()"
   ]
  },
  {
   "cell_type": "code",
   "execution_count": 90,
   "metadata": {},
   "outputs": [
    {
     "name": "stdout",
     "output_type": "stream",
     "text": [
      "6580\n"
     ]
    }
   ],
   "source": [
    "print(len(list(id_type12)))"
   ]
  },
  {
   "cell_type": "code",
   "execution_count": null,
   "metadata": {},
   "outputs": [],
   "source": []
  }
 ],
 "metadata": {
  "kernelspec": {
   "display_name": "Python 3",
   "language": "python",
   "name": "python3"
  },
  "language_info": {
   "codemirror_mode": {
    "name": "ipython",
    "version": 3
   },
   "file_extension": ".py",
   "mimetype": "text/x-python",
   "name": "python",
   "nbconvert_exporter": "python",
   "pygments_lexer": "ipython3",
   "version": "3.7.7"
  }
 },
 "nbformat": 4,
 "nbformat_minor": 2
}
